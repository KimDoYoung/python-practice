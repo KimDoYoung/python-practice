{
 "cells": [
  {
   "cell_type": "code",
   "execution_count": 3,
   "metadata": {},
   "outputs": [
    {
     "ename": "NameError",
     "evalue": "name 'bcrypt' is not defined",
     "output_type": "error",
     "traceback": [
      "\u001b[1;31m---------------------------------------------------------------------------\u001b[0m",
      "\u001b[1;31mNameError\u001b[0m                                 Traceback (most recent call last)",
      "Cell \u001b[1;32mIn[3], line 1\u001b[0m\n\u001b[1;32m----> 1\u001b[0m hashed_password \u001b[38;5;241m=\u001b[39m \u001b[43mbcrypt\u001b[49m\u001b[38;5;241m.\u001b[39mhash(\u001b[38;5;124m'\u001b[39m\u001b[38;5;124m1111\u001b[39m\u001b[38;5;124m'\u001b[39m)\n",
      "\u001b[1;31mNameError\u001b[0m: name 'bcrypt' is not defined"
     ]
    }
   ],
   "source": [
    "hashed_password = bcrypt.hash('1111')\n"
   ]
  },
  {
   "cell_type": "code",
   "execution_count": 4,
   "metadata": {},
   "outputs": [
    {
     "ename": "NameError",
     "evalue": "name 'hashed_password' is not defined",
     "output_type": "error",
     "traceback": [
      "\u001b[1;31m---------------------------------------------------------------------------\u001b[0m",
      "\u001b[1;31mNameError\u001b[0m                                 Traceback (most recent call last)",
      "Cell \u001b[1;32mIn[4], line 1\u001b[0m\n\u001b[1;32m----> 1\u001b[0m \u001b[38;5;28mprint\u001b[39m(\u001b[43mhashed_password\u001b[49m)\n",
      "\u001b[1;31mNameError\u001b[0m: name 'hashed_password' is not defined"
     ]
    }
   ],
   "source": [
    "print(hashed_password)"
   ]
  },
  {
   "cell_type": "code",
   "execution_count": 2,
   "metadata": {},
   "outputs": [
    {
     "ename": "NameError",
     "evalue": "name 'bcrypt' is not defined",
     "output_type": "error",
     "traceback": [
      "\u001b[1;31m---------------------------------------------------------------------------\u001b[0m",
      "\u001b[1;31mNameError\u001b[0m                                 Traceback (most recent call last)",
      "Cell \u001b[1;32mIn[2], line 1\u001b[0m\n\u001b[1;32m----> 1\u001b[0m hashed_password \u001b[38;5;241m=\u001b[39m \u001b[43mbcrypt\u001b[49m\u001b[38;5;241m.\u001b[39mhash(\u001b[38;5;124m'\u001b[39m\u001b[38;5;124m1111\u001b[39m\u001b[38;5;124m'\u001b[39m)\n\u001b[0;32m      2\u001b[0m \u001b[38;5;28mprint\u001b[39m(hashed_password)\n",
      "\u001b[1;31mNameError\u001b[0m: name 'bcrypt' is not defined"
     ]
    }
   ],
   "source": [
    "hashed_password = bcrypt.hash('1111')\n",
    "print(hashed_password)\n",
    "\n"
   ]
  },
  {
   "cell_type": "code",
   "execution_count": 1,
   "metadata": {},
   "outputs": [
    {
     "name": "stdout",
     "output_type": "stream",
     "text": [
      "Collecting bcryptNote: you may need to restart the kernel to use updated packages.\n",
      "\n",
      "  Using cached bcrypt-4.1.2-cp39-abi3-win_amd64.whl.metadata (9.8 kB)\n",
      "Using cached bcrypt-4.1.2-cp39-abi3-win_amd64.whl (158 kB)\n",
      "Installing collected packages: bcrypt\n",
      "Successfully installed bcrypt-4.1.2\n"
     ]
    }
   ],
   "source": [
    "pip install bcrypt\n"
   ]
  }
 ],
 "metadata": {
  "kernelspec": {
   "display_name": "Python 3",
   "language": "python",
   "name": "python3"
  },
  "language_info": {
   "codemirror_mode": {
    "name": "ipython",
    "version": 3
   },
   "file_extension": ".py",
   "mimetype": "text/x-python",
   "name": "python",
   "nbconvert_exporter": "python",
   "pygments_lexer": "ipython3",
   "version": "3.12.2"
  }
 },
 "nbformat": 4,
 "nbformat_minor": 2
}
