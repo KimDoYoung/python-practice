{
 "cells": [
  {
   "cell_type": "code",
   "execution_count": 10,
   "metadata": {},
   "outputs": [],
   "source": [
    "def convert_percentage_to_float(value):\n",
    "    try:\n",
    "        return float(value.replace('%', ''))\n",
    "    except ValueError:\n",
    "        return None"
   ]
  },
  {
   "cell_type": "code",
   "execution_count": null,
   "metadata": {},
   "outputs": [],
   "source": []
  },
  {
   "cell_type": "code",
   "execution_count": 17,
   "metadata": {},
   "outputs": [],
   "source": [
    "import pandas as pd\n",
    "\n",
    "df = pd.read_csv('data/2024_05_22_14_02_26/전체_테마.csv')\n",
    "#df.sample(3)\n",
    "#df.columns\n",
    "#df.head(3)\n",
    "df.drop(columns=['테마차트(90일)'], inplace=True)\n",
    "df.drop(columns=['업데이트'], inplace=True)\n",
    "df.drop(columns=['테마토크'], inplace=True)\n",
    "df['테마명'] = df['테마명'].str.replace('Information', '').str.strip()\n",
    "\n",
    "\n",
    "columns_to_convert = ['3년 상승률', '3년 하락률', '52주 상승률', '52주 하락률', '전일비', '3일합산', '기대수익률']\n",
    "for column in columns_to_convert:\n",
    "    df[column] = df[column].apply(convert_percentage_to_float)"
   ]
  },
  {
   "cell_type": "code",
   "execution_count": 27,
   "metadata": {},
   "outputs": [],
   "source": [
    "import re\n",
    "\n",
    "\n",
    "def split_title_count(span_text):\n",
    "    # 정규 표현식을 사용하여 패턴 매칭\n",
    "    match = re.match(r'^(.*)\\((\\d+)\\)$', span_text)\n",
    "    if match:\n",
    "        # 첫 번째 그룹은 '원자재(구리)'와 두 번째 그룹은 '6'을 포함\n",
    "        return match.group(1), int(match.group(2))\n",
    "    else:\n",
    "        return None, None\n",
    "\n"
   ]
  },
  {
   "cell_type": "code",
   "execution_count": 28,
   "metadata": {},
   "outputs": [
    {
     "data": {
      "text/plain": [
       "('원자재(구리)', 6)"
      ]
     },
     "execution_count": 28,
     "metadata": {},
     "output_type": "execute_result"
    }
   ],
   "source": [
    "s='원자재(구리)(6)'\n",
    "split_title_count(s)\n"
   ]
  },
  {
   "cell_type": "code",
   "execution_count": 29,
   "metadata": {},
   "outputs": [
    {
     "data": {
      "text/plain": [
       "('원자재 ', 6)"
      ]
     },
     "execution_count": 29,
     "metadata": {},
     "output_type": "execute_result"
    }
   ],
   "source": [
    "s='원자재 (6)'\n",
    "split_title_count(s)"
   ]
  },
  {
   "cell_type": "code",
   "execution_count": 30,
   "metadata": {},
   "outputs": [
    {
     "data": {
      "text/plain": [
       "('LFP 배터리', 9)"
      ]
     },
     "execution_count": 30,
     "metadata": {},
     "output_type": "execute_result"
    }
   ],
   "source": [
    "s='LFP 배터리(9)'\n",
    "split_title_count(s)"
   ]
  },
  {
   "cell_type": "code",
   "execution_count": 18,
   "metadata": {},
   "outputs": [
    {
     "data": {
      "text/html": [
       "<div>\n",
       "<style scoped>\n",
       "    .dataframe tbody tr th:only-of-type {\n",
       "        vertical-align: middle;\n",
       "    }\n",
       "\n",
       "    .dataframe tbody tr th {\n",
       "        vertical-align: top;\n",
       "    }\n",
       "\n",
       "    .dataframe thead th {\n",
       "        text-align: right;\n",
       "    }\n",
       "</style>\n",
       "<table border=\"1\" class=\"dataframe\">\n",
       "  <thead>\n",
       "    <tr style=\"text-align: right;\">\n",
       "      <th></th>\n",
       "      <th>테마명</th>\n",
       "      <th>전일비</th>\n",
       "      <th>3일합산</th>\n",
       "      <th>52주 상승률</th>\n",
       "      <th>52주 하락률</th>\n",
       "      <th>52주 소외지수</th>\n",
       "      <th>3년 상승률</th>\n",
       "      <th>3년 하락률</th>\n",
       "      <th>3년 소외지수</th>\n",
       "      <th>기대수익률</th>\n",
       "      <th>유저점수</th>\n",
       "    </tr>\n",
       "  </thead>\n",
       "  <tbody>\n",
       "    <tr>\n",
       "      <th>0</th>\n",
       "      <td>2차전지</td>\n",
       "      <td>0.79</td>\n",
       "      <td>-1.37</td>\n",
       "      <td>59.37</td>\n",
       "      <td>-44.20</td>\n",
       "      <td>20</td>\n",
       "      <td>222.20</td>\n",
       "      <td>-54.24</td>\n",
       "      <td>27</td>\n",
       "      <td>79.21</td>\n",
       "      <td>241</td>\n",
       "    </tr>\n",
       "    <tr>\n",
       "      <th>1</th>\n",
       "      <td>2차전지 장비</td>\n",
       "      <td>0.79</td>\n",
       "      <td>-1.63</td>\n",
       "      <td>34.27</td>\n",
       "      <td>-45.95</td>\n",
       "      <td>14</td>\n",
       "      <td>70.89</td>\n",
       "      <td>-54.92</td>\n",
       "      <td>18</td>\n",
       "      <td>85.01</td>\n",
       "      <td>104</td>\n",
       "    </tr>\n",
       "    <tr>\n",
       "      <th>2</th>\n",
       "      <td>2차전지(소재부품)</td>\n",
       "      <td>0.51</td>\n",
       "      <td>-0.43</td>\n",
       "      <td>43.48</td>\n",
       "      <td>-42.32</td>\n",
       "      <td>24</td>\n",
       "      <td>153.26</td>\n",
       "      <td>-55.22</td>\n",
       "      <td>30</td>\n",
       "      <td>73.37</td>\n",
       "      <td>34</td>\n",
       "    </tr>\n",
       "  </tbody>\n",
       "</table>\n",
       "</div>"
      ],
      "text/plain": [
       "          테마명   전일비  3일합산  52주 상승률  52주 하락률  52주 소외지수  3년 상승률  3년 하락률  \\\n",
       "0        2차전지  0.79 -1.37    59.37   -44.20        20  222.20  -54.24   \n",
       "1     2차전지 장비  0.79 -1.63    34.27   -45.95        14   70.89  -54.92   \n",
       "2  2차전지(소재부품)  0.51 -0.43    43.48   -42.32        24  153.26  -55.22   \n",
       "\n",
       "   3년 소외지수  기대수익률  유저점수  \n",
       "0       27  79.21   241  \n",
       "1       18  85.01   104  \n",
       "2       30  73.37    34  "
      ]
     },
     "execution_count": 18,
     "metadata": {},
     "output_type": "execute_result"
    }
   ],
   "source": [
    "df.head(3)"
   ]
  },
  {
   "cell_type": "code",
   "execution_count": 20,
   "metadata": {},
   "outputs": [
    {
     "name": "stdout",
     "output_type": "stream",
     "text": [
      "기대수익률 상위 5개 항목:\n",
      "               테마명   기대수익률  3년 상승률\n",
      "57              리튬  130.20  253.74\n",
      "140           의료AI  122.77  139.91\n",
      "198           풍력발전  102.68    8.43\n",
      "156       전기차 무선충전   92.83   38.40\n",
      "183       코로나 진단키트   90.55   39.10\n",
      "169          중국국적주   89.50   60.15\n",
      "89   비대면 진료(AI 진료)   89.39  116.52\n",
      "125           온실가스   85.94  136.95\n",
      "135       원자재(희토류)   85.43   72.51\n",
      "1          2차전지 장비   85.01   70.89\n",
      "\n",
      "3년 상승률 상위 5개 항목:\n",
      "           테마명  3년 상승률   기대수익률\n",
      "84         변압기  638.93   13.03\n",
      "159   전선 해저케이블  327.94   12.25\n",
      "16         PCB  256.84   33.51\n",
      "57          리튬  253.74  130.20\n",
      "11   HBM HBM3E  243.16   35.80\n",
      "0         2차전지  222.20   79.21\n",
      "123        오세훈  207.09   36.39\n",
      "170   증강현실(AR)  206.05   77.62\n",
      "130    원자재(구리)  199.19   21.45\n",
      "124   온디바이스 AI  196.92   36.91\n",
      "\n",
      "공통 항목:\n",
      "  테마명  기대수익률_x  3년 상승률_x\n",
      "0  리튬    130.2    253.74\n"
     ]
    }
   ],
   "source": [
    "\n",
    "# '기대수익률'이 가장 높은 상위 5개 항목 선택\n",
    "top_5_expected_return = df.nlargest(10, '기대수익률')\n",
    "\n",
    "# '3년 상승률'이 가장 높은 상위 5개 항목 선택\n",
    "top_5_3yr_growth = df.nlargest(10, '3년 상승률')\n",
    "\n",
    "common_top_items = pd.merge(top_5_expected_return, top_5_3yr_growth, how='inner', on='테마명')\n",
    "\n",
    "print(\"기대수익률 상위 5개 항목:\")\n",
    "print(top_5_expected_return[['테마명', '기대수익률', '3년 상승률']])\n",
    "\n",
    "print(\"\\n3년 상승률 상위 5개 항목:\")\n",
    "print(top_5_3yr_growth[['테마명', '3년 상승률', '기대수익률']])\n",
    "\n",
    "print(\"\\n공통 항목:\")\n",
    "print(common_top_items[['테마명', '기대수익률_x', '3년 상승률_x']])\n"
   ]
  }
 ],
 "metadata": {
  "kernelspec": {
   "display_name": "env",
   "language": "python",
   "name": "python3"
  },
  "language_info": {
   "codemirror_mode": {
    "name": "ipython",
    "version": 3
   },
   "file_extension": ".py",
   "mimetype": "text/x-python",
   "name": "python",
   "nbconvert_exporter": "python",
   "pygments_lexer": "ipython3",
   "version": "3.12.2"
  }
 },
 "nbformat": 4,
 "nbformat_minor": 2
}
